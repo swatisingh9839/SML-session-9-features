{
  "nbformat": 4,
  "nbformat_minor": 0,
  "metadata": {
    "@webio": {
      "lastCommId": null,
      "lastKernelId": null
    },
    "celltoolbar": "Tags",
    "kernelspec": {
      "display_name": "Python 3",
      "language": "python",
      "name": "python3"
    },
    "language_info": {
      "codemirror_mode": {
        "name": "ipython",
        "version": 3
      },
      "file_extension": ".py",
      "mimetype": "text/x-python",
      "name": "python",
      "nbconvert_exporter": "python",
      "pygments_lexer": "ipython3",
      "version": "3.7.6"
    },
    "colab": {
      "name": "Copy of SML-session_9_features.ipynb",
      "provenance": [],
      "collapsed_sections": [],
      "include_colab_link": true
    }
  },
  "cells": [
    {
      "cell_type": "markdown",
      "metadata": {
        "id": "view-in-github",
        "colab_type": "text"
      },
      "source": [
        "<a href=\"https://colab.research.google.com/github/swatisingh9839/SML-session-9-features/blob/main/Copy_of_SML_session_9_features.ipynb\" target=\"_parent\"><img src=\"https://colab.research.google.com/assets/colab-badge.svg\" alt=\"Open In Colab\"/></a>"
      ]
    },
    {
      "cell_type": "code",
      "metadata": {
        "tags": [],
        "id": "JZgbPfQ4xH27"
      },
      "source": [
        "import pandas as pd\n",
        "import matplotlib as mpl\n",
        "import matplotlib.pyplot as plt\n",
        "import numpy as np\n",
        "\n",
        "import sklearn.linear_model as skl_lm\n",
        "\n",
        "from matplotlib.patches import Arc\n",
        "\n",
        "import itertools\n",
        "import math\n",
        "\n",
        "mpl.rcParams['axes.spines.right'] = False\n",
        "mpl.rcParams['axes.spines.top'] = False"
      ],
      "execution_count": null,
      "outputs": []
    },
    {
      "cell_type": "markdown",
      "metadata": {
        "tags": [],
        "id": "Q8cfzgQUxH28"
      },
      "source": [
        "# 9.1 Analysing happiness across countries"
      ]
    },
    {
      "cell_type": "markdown",
      "metadata": {
        "tags": [],
        "id": "vOAMyQO8xH28"
      },
      "source": [
        "In this exercise, we will consider the data set `data/happy.csv` with data from the World Happiness Report. For details see: https://worldhappiness.report/ed/2019/changing-world-happiness/"
      ]
    },
    {
      "cell_type": "markdown",
      "metadata": {
        "tags": [],
        "id": "7XUt4787xH28"
      },
      "source": [
        "## Dataset\n",
        "\n",
        "`GDP per capita` is in terms of Purchasing Power Parity (PPP) adjusted to constant 2011 international dollars, taken from the World Development Indicators (WDI) released by the World Bank on November 14, 2018. The equation uses the natural log of GDP per capita, as this form fits the data significantly better than GDP per capita.\n",
        "\n",
        "The time series of `healthy life expectancy` at birth are constructed based on data from the World Health Organization (WHO) Global Health Observatory data repository, with data available for 2005, 2010, 2015, and 2016. To match this report’s sample period, interpolation and extrapolation are used. \n",
        "\n",
        "`Social support` is the national average of the binary responses (either 0 or 1) to the Gallup World Poll (GWP) question “If you were in trouble, do you have relatives or friends you can count on to help you whenever you need them, or not?”\n",
        "\n",
        "`Freedom to make life choices` is the national average of binary responses to the GWP question “Are you satisfied or dissatisfied with your freedom to choose what you do with your life?”\n",
        "\n",
        "`Generosity` is the residual of regressing the national average of GWP responses to the question “Have you donated money to a charity in the past month?” on GDP per capita.\n",
        "\n",
        "`Perceptions of corruption` are the average of binary answers to two GWP questions: “Is corruption widespread throughout the government or not?” and “Is corruption widespread within businesses or not?” Where data for government corruption are missing, the perception of business corruption is used as the overall corruption-perception measure."
      ]
    },
    {
      "cell_type": "markdown",
      "metadata": {
        "tags": [],
        "id": "ZIt9Ga7bxH28"
      },
      "source": [
        "## a)\n",
        "\n",
        "Load and familiarize yourself with the data set."
      ]
    },
    {
      "cell_type": "code",
      "metadata": {
        "scrolled": false,
        "tags": [],
        "id": "ZyZdcpS6xH28",
        "colab": {
          "base_uri": "https://localhost:8080/",
          "height": 238
        },
        "outputId": "e427e052-8fa5-4a28-e832-614f358eed3f"
      },
      "source": [
        "# Read in the data\n",
        "#happy = pd.read_csv(\"data/happy.csv\",delimiter=';') \n",
        "happy = pd.read_csv('https://uu-sml.github.io/course-sml-public/data/happy.csv', delimiter=';')\n",
        "happy.head()"
      ],
      "execution_count": null,
      "outputs": [
        {
          "output_type": "execute_result",
          "data": {
            "text/html": [
              "<div>\n",
              "<style scoped>\n",
              "    .dataframe tbody tr th:only-of-type {\n",
              "        vertical-align: middle;\n",
              "    }\n",
              "\n",
              "    .dataframe tbody tr th {\n",
              "        vertical-align: top;\n",
              "    }\n",
              "\n",
              "    .dataframe thead th {\n",
              "        text-align: right;\n",
              "    }\n",
              "</style>\n",
              "<table border=\"1\" class=\"dataframe\">\n",
              "  <thead>\n",
              "    <tr style=\"text-align: right;\">\n",
              "      <th></th>\n",
              "      <th>Country name</th>\n",
              "      <th>Year</th>\n",
              "      <th>Life Ladder</th>\n",
              "      <th>Log GDP per capita</th>\n",
              "      <th>Social support</th>\n",
              "      <th>Healthy life expectancy at birth</th>\n",
              "      <th>Freedom to make life choices</th>\n",
              "      <th>Generosity</th>\n",
              "      <th>Perceptions of corruption</th>\n",
              "      <th>Positive affect</th>\n",
              "      <th>Negative affect</th>\n",
              "      <th>Confidence in national government</th>\n",
              "      <th>Democratic Quality</th>\n",
              "    </tr>\n",
              "  </thead>\n",
              "  <tbody>\n",
              "    <tr>\n",
              "      <th>0</th>\n",
              "      <td>Afghanistan</td>\n",
              "      <td>2008</td>\n",
              "      <td>3.723590</td>\n",
              "      <td>7.168690</td>\n",
              "      <td>0.450662</td>\n",
              "      <td>50.799999</td>\n",
              "      <td>0.718114</td>\n",
              "      <td>0.177889</td>\n",
              "      <td>0.881686</td>\n",
              "      <td>0.517637</td>\n",
              "      <td>0.258195</td>\n",
              "      <td>0.612072</td>\n",
              "      <td>-1.929690</td>\n",
              "    </tr>\n",
              "    <tr>\n",
              "      <th>1</th>\n",
              "      <td>Afghanistan</td>\n",
              "      <td>2009</td>\n",
              "      <td>4.401778</td>\n",
              "      <td>7.333790</td>\n",
              "      <td>0.552308</td>\n",
              "      <td>51.200001</td>\n",
              "      <td>0.678896</td>\n",
              "      <td>0.200178</td>\n",
              "      <td>0.850035</td>\n",
              "      <td>0.583926</td>\n",
              "      <td>0.237092</td>\n",
              "      <td>0.611545</td>\n",
              "      <td>-2.044093</td>\n",
              "    </tr>\n",
              "    <tr>\n",
              "      <th>2</th>\n",
              "      <td>Afghanistan</td>\n",
              "      <td>2010</td>\n",
              "      <td>4.758381</td>\n",
              "      <td>7.386629</td>\n",
              "      <td>0.539075</td>\n",
              "      <td>51.599998</td>\n",
              "      <td>0.600127</td>\n",
              "      <td>0.134353</td>\n",
              "      <td>0.706766</td>\n",
              "      <td>0.618265</td>\n",
              "      <td>0.275324</td>\n",
              "      <td>0.299357</td>\n",
              "      <td>-1.991810</td>\n",
              "    </tr>\n",
              "    <tr>\n",
              "      <th>3</th>\n",
              "      <td>Afghanistan</td>\n",
              "      <td>2011</td>\n",
              "      <td>3.831719</td>\n",
              "      <td>7.415019</td>\n",
              "      <td>0.521104</td>\n",
              "      <td>51.919998</td>\n",
              "      <td>0.495901</td>\n",
              "      <td>0.172137</td>\n",
              "      <td>0.731109</td>\n",
              "      <td>0.611387</td>\n",
              "      <td>0.267175</td>\n",
              "      <td>0.307386</td>\n",
              "      <td>-1.919018</td>\n",
              "    </tr>\n",
              "    <tr>\n",
              "      <th>4</th>\n",
              "      <td>Afghanistan</td>\n",
              "      <td>2012</td>\n",
              "      <td>3.782938</td>\n",
              "      <td>7.517126</td>\n",
              "      <td>0.520637</td>\n",
              "      <td>52.240002</td>\n",
              "      <td>0.530935</td>\n",
              "      <td>0.244273</td>\n",
              "      <td>0.775620</td>\n",
              "      <td>0.710385</td>\n",
              "      <td>0.267919</td>\n",
              "      <td>0.435440</td>\n",
              "      <td>-1.842996</td>\n",
              "    </tr>\n",
              "  </tbody>\n",
              "</table>\n",
              "</div>"
            ],
            "text/plain": [
              "  Country name  Year  ...  Confidence in national government  Democratic Quality\n",
              "0  Afghanistan  2008  ...                           0.612072           -1.929690\n",
              "1  Afghanistan  2009  ...                           0.611545           -2.044093\n",
              "2  Afghanistan  2010  ...                           0.299357           -1.991810\n",
              "3  Afghanistan  2011  ...                           0.307386           -1.919018\n",
              "4  Afghanistan  2012  ...                           0.435440           -1.842996\n",
              "\n",
              "[5 rows x 13 columns]"
            ]
          },
          "metadata": {
            "tags": []
          },
          "execution_count": 2
        }
      ]
    },
    {
      "cell_type": "code",
      "metadata": {
        "tags": [],
        "id": "Na0wuY7uxH28",
        "colab": {
          "base_uri": "https://localhost:8080/",
          "height": 221
        },
        "outputId": "c65d4e2a-9a9c-46bc-8ed1-526975c84070"
      },
      "source": [
        "# Rename some columns\n",
        "happy.rename(columns = {\n",
        "    'Perceptions of corruption':'Corruption',\n",
        "    'Log GDP per capita': 'LogGDP',\n",
        "    'Healthy life expectancy at birth': 'LifeExp',\n",
        "    'Freedom to make life choices': 'Freedom',\n",
        "}, inplace = True) \n",
        "\n",
        "# In this exercise we will just analyse one year. 2017.\n",
        "df = happy[happy['Year'] == 2017].dropna()\n",
        "df.head()"
      ],
      "execution_count": null,
      "outputs": [
        {
          "output_type": "execute_result",
          "data": {
            "text/html": [
              "<div>\n",
              "<style scoped>\n",
              "    .dataframe tbody tr th:only-of-type {\n",
              "        vertical-align: middle;\n",
              "    }\n",
              "\n",
              "    .dataframe tbody tr th {\n",
              "        vertical-align: top;\n",
              "    }\n",
              "\n",
              "    .dataframe thead th {\n",
              "        text-align: right;\n",
              "    }\n",
              "</style>\n",
              "<table border=\"1\" class=\"dataframe\">\n",
              "  <thead>\n",
              "    <tr style=\"text-align: right;\">\n",
              "      <th></th>\n",
              "      <th>Country name</th>\n",
              "      <th>Year</th>\n",
              "      <th>Life Ladder</th>\n",
              "      <th>LogGDP</th>\n",
              "      <th>Social support</th>\n",
              "      <th>LifeExp</th>\n",
              "      <th>Freedom</th>\n",
              "      <th>Generosity</th>\n",
              "      <th>Corruption</th>\n",
              "      <th>Positive affect</th>\n",
              "      <th>Negative affect</th>\n",
              "      <th>Confidence in national government</th>\n",
              "      <th>Democratic Quality</th>\n",
              "    </tr>\n",
              "  </thead>\n",
              "  <tbody>\n",
              "    <tr>\n",
              "      <th>9</th>\n",
              "      <td>Afghanistan</td>\n",
              "      <td>2017</td>\n",
              "      <td>2.661718</td>\n",
              "      <td>7.497755</td>\n",
              "      <td>0.490880</td>\n",
              "      <td>52.799999</td>\n",
              "      <td>0.427011</td>\n",
              "      <td>-0.112198</td>\n",
              "      <td>0.954393</td>\n",
              "      <td>0.496349</td>\n",
              "      <td>0.371326</td>\n",
              "      <td>0.261179</td>\n",
              "      <td>-1.886566</td>\n",
              "    </tr>\n",
              "    <tr>\n",
              "      <th>20</th>\n",
              "      <td>Albania</td>\n",
              "      <td>2017</td>\n",
              "      <td>4.639548</td>\n",
              "      <td>9.376145</td>\n",
              "      <td>0.637698</td>\n",
              "      <td>68.400002</td>\n",
              "      <td>0.749611</td>\n",
              "      <td>-0.032643</td>\n",
              "      <td>0.876135</td>\n",
              "      <td>0.669241</td>\n",
              "      <td>0.333884</td>\n",
              "      <td>0.457738</td>\n",
              "      <td>0.299945</td>\n",
              "    </tr>\n",
              "    <tr>\n",
              "      <th>44</th>\n",
              "      <td>Argentina</td>\n",
              "      <td>2017</td>\n",
              "      <td>6.039330</td>\n",
              "      <td>9.848709</td>\n",
              "      <td>0.906699</td>\n",
              "      <td>68.599998</td>\n",
              "      <td>0.831966</td>\n",
              "      <td>-0.182600</td>\n",
              "      <td>0.841052</td>\n",
              "      <td>0.809423</td>\n",
              "      <td>0.291717</td>\n",
              "      <td>0.305430</td>\n",
              "      <td>0.351304</td>\n",
              "    </tr>\n",
              "    <tr>\n",
              "      <th>57</th>\n",
              "      <td>Armenia</td>\n",
              "      <td>2017</td>\n",
              "      <td>4.287736</td>\n",
              "      <td>9.081095</td>\n",
              "      <td>0.697925</td>\n",
              "      <td>66.599998</td>\n",
              "      <td>0.613697</td>\n",
              "      <td>-0.133958</td>\n",
              "      <td>0.864683</td>\n",
              "      <td>0.625014</td>\n",
              "      <td>0.437149</td>\n",
              "      <td>0.246901</td>\n",
              "      <td>-0.633139</td>\n",
              "    </tr>\n",
              "    <tr>\n",
              "      <th>69</th>\n",
              "      <td>Australia</td>\n",
              "      <td>2017</td>\n",
              "      <td>7.257038</td>\n",
              "      <td>10.706581</td>\n",
              "      <td>0.949958</td>\n",
              "      <td>73.300003</td>\n",
              "      <td>0.910550</td>\n",
              "      <td>0.308773</td>\n",
              "      <td>0.411347</td>\n",
              "      <td>0.780079</td>\n",
              "      <td>0.225361</td>\n",
              "      <td>0.453407</td>\n",
              "      <td>1.140084</td>\n",
              "    </tr>\n",
              "  </tbody>\n",
              "</table>\n",
              "</div>"
            ],
            "text/plain": [
              "   Country name  Year  ...  Confidence in national government  Democratic Quality\n",
              "9   Afghanistan  2017  ...                           0.261179           -1.886566\n",
              "20      Albania  2017  ...                           0.457738            0.299945\n",
              "44    Argentina  2017  ...                           0.305430            0.351304\n",
              "57      Armenia  2017  ...                           0.246901           -0.633139\n",
              "69    Australia  2017  ...                           0.453407            1.140084\n",
              "\n",
              "[5 rows x 13 columns]"
            ]
          },
          "metadata": {
            "tags": []
          },
          "execution_count": 3
        }
      ]
    },
    {
      "cell_type": "markdown",
      "metadata": {
        "tags": [],
        "id": "89Jk4YBsxH28"
      },
      "source": [
        "## b)\n",
        "The code below fits a linear regression model to predict life ladder (happiness) as a function of social support. Edit the code to fit a third order polynomial. What model would you suggest to use?"
      ]
    },
    {
      "cell_type": "code",
      "metadata": {
        "tags": [],
        "id": "uApeXipRxH28",
        "colab": {
          "base_uri": "https://localhost:8080/"
        },
        "outputId": "18f3f842-f354-4ea1-ec5b-075b085658e7"
      },
      "source": [
        "#Fit model.\n",
        "X_train = df[['Social support']]\n",
        "y_train = df['Life Ladder']\n",
        "model = skl_lm.LinearRegression(fit_intercept=False)\n",
        "model.fit(X_train, y_train)\n",
        "\n",
        "# Print the solution\n",
        "print(f'The coefficient is: {model.coef_[0]:.3f}')"
      ],
      "execution_count": null,
      "outputs": [
        {
          "output_type": "stream",
          "text": [
            "The coefficient is: 6.813\n"
          ],
          "name": "stdout"
        }
      ]
    },
    {
      "cell_type": "code",
      "metadata": {
        "tags": [],
        "id": "eqSWiUmGxH28"
      },
      "source": [
        "#Compute predictions.\n",
        "x = np.arange(0.25, 1, step=0.01)\n",
        "X_test = x.reshape(-1, 1)\n",
        "y_test = model.predict(X_test)"
      ],
      "execution_count": null,
      "outputs": []
    },
    {
      "cell_type": "code",
      "metadata": {
        "tags": [],
        "id": "YrbM9oLGxH29"
      },
      "source": [
        "#Fit model polynomial\n"
      ],
      "execution_count": null,
      "outputs": []
    },
    {
      "cell_type": "code",
      "metadata": {
        "tags": [],
        "id": "bcBeJOQGxH29"
      },
      "source": [
        "#Compute predictions.\n"
      ],
      "execution_count": null,
      "outputs": []
    },
    {
      "cell_type": "code",
      "metadata": {
        "tags": [],
        "id": "emV8mOaOxH29",
        "colab": {
          "base_uri": "https://localhost:8080/",
          "height": 282
        },
        "outputId": "28efda1f-aa81-4e3f-f686-5d7bb66a8a27"
      },
      "source": [
        "# Plot social support and life ladder data\n",
        "plt.plot('Social support', 'Life Ladder', 'o', data=df, color='gray')\n",
        "countries = ['United Kingdom','Croatia', 'Benin', 'Finland',\n",
        "             'Afghanistan']\n",
        "for country in countries:\n",
        "    ci = np.where(df['Country name'] == country)[0][0]\n",
        "    plt.plot(df.iloc[ci]['Social support'],\n",
        "             df.iloc[ci]['Life Ladder'], 'ko')\n",
        "    plt.annotate(country,\n",
        "                 xy=(df.iloc[ci]['Social support'],\n",
        "                     df.iloc[ci]['Life Ladder']),\n",
        "                 xytext=(3, 3),  # 3 points offset\n",
        "                 textcoords=\"offset points\",\n",
        "                 ha='left', va='bottom')\n",
        "\n",
        "# Plot model\n",
        "plt.plot(x, y_test, 'k')\n",
        "plt.ylabel('Life Satisfaction (y)')\n",
        "plt.xlabel('Social support (s)')\n",
        "plt.show()"
      ],
      "execution_count": null,
      "outputs": [
        {
          "output_type": "display_data",
          "data": {
            "image/png": "[encoded data removed]",
            "text/plain": [
              "<Figure size 432x288 with 1 Axes>"
            ]
          },
          "metadata": {
            "tags": [],
            "needs_background": "light"
          }
        }
      ]
    },
    {
      "cell_type": "markdown",
      "metadata": {
        "tags": [],
        "id": "N5NHorSLxH29"
      },
      "source": [
        "## c)\n",
        "\n",
        "The code below fits a linear regression model to predict life ladder (happiness) as a linear function of six variables. Use AIC as a manual tool to investigate what the best model is combining these factors.\n",
        "\n",
        "The AIC of a model is defined as\n",
        "$$\n",
        "\\mathrm{AIC} = 2 k - 2 \\ell,\n",
        "$$\n",
        "where $k$ is the number of model parameters and $\\ell$ is the maximum log-likelihood of the model. In the case of a linear regression model\n",
        "$$\n",
        "y = \\theta_0 + \\theta_1 x_1 + \\cdots + \\theta_p x_p + \\epsilon, \\qquad \\epsilon \\sim \\mathcal{N}(0, \\sigma^2)\n",
        "$$\n",
        "with intercept the number of parameters is $k = p + 2$ ($\\theta_0, \\ldots, \\theta_p$ and $\\sigma$). Without intercept,\n",
        "the number of parameters would be $k = p + 1$ ($\\theta_1, \\ldots, \\theta_p$ and $\\sigma$)."
      ]
    },
    {
      "cell_type": "code",
      "metadata": {
        "tags": [],
        "id": "4mY8Bx5ZxH29",
        "colab": {
          "base_uri": "https://localhost:8080/"
        },
        "outputId": "317398c7-6f10-4cdf-baf7-ce3f998e3ea2"
      },
      "source": [
        "factors = ['LogGDP', 'Social support', 'LifeExp',  'Freedom',\n",
        "           'Generosity', 'Corruption']\n",
        "\n",
        "# Fit regression model\n",
        "X = df[factors]\n",
        "y = df['Life Ladder']\n",
        "model = skl_lm.LinearRegression()\n",
        "model.fit(X, y)\n",
        "\n",
        "# Print the solution\n",
        "print('The coefficients are:', model.coef_)\n",
        "print(f'The offset is: {model.intercept_:.3f}')\n",
        "\n",
        "# Compute predictions\n",
        "y_hat = model.predict(X)\n",
        "\n",
        "# Compute AIC\n",
        "def aic(model, y, y_hat):\n",
        "    # Numbers of parameters of linear regression model\n",
        "    # Variance of Gaussian noise is a parameter as well!\n",
        "    k = model.coef_.size + model.get_params()['fit_intercept'] + 1\n",
        "    \n",
        "    # Compute maximum log-likelihood\n",
        "    n = y.size\n",
        "    mse = np.mean((y - y_hat)**2)\n",
        "    loglik = - n / 2 * (1 + math.log(2 * math.pi) + np.log(mse))\n",
        "    \n",
        "    return 2 * (k - loglik)\n",
        "\n",
        "print(f'The AIC is: {aic(model, y, y_hat):.3f}')"
      ],
      "execution_count": null,
      "outputs": [
        {
          "output_type": "stream",
          "text": [
            "The coefficients are: [ 0.24164398  2.9430804   0.03409291  1.50500137  0.40700498 -0.45686726]\n",
            "The offset is: -2.151\n",
            "The AIC is: 244.005\n"
          ],
          "name": "stdout"
        }
      ]
    },
    {
      "cell_type": "markdown",
      "metadata": {
        "tags": [],
        "id": "nFLKoDBZxH29"
      },
      "source": [
        "## d)\n",
        "\n",
        "Write an automated code to find the model with the smallest AIC."
      ]
    },
    {
      "cell_type": "code",
      "metadata": {
        "scrolled": false,
        "tags": [],
        "id": "mrM6F-tOxH29"
      },
      "source": [
        ""
      ],
      "execution_count": null,
      "outputs": []
    },
    {
      "cell_type": "markdown",
      "metadata": {
        "tags": [],
        "id": "xfTttbGuxH29"
      },
      "source": [
        "This can very likely be improved on."
      ]
    },
    {
      "cell_type": "markdown",
      "metadata": {
        "tags": [],
        "id": "j0pff5HVxH29"
      },
      "source": [
        "# 9.2 Analysing goals in football"
      ]
    },
    {
      "cell_type": "markdown",
      "metadata": {
        "tags": [],
        "id": "FidCZnk9xH29"
      },
      "source": [
        "In this exercise, we will consider the data set `data/shots.csv`. This is a collection of all shots and goals in the English premier league for one season. See: https://figshare.com/articles/dataset/Events/7770599"
      ]
    },
    {
      "cell_type": "markdown",
      "metadata": {
        "tags": [],
        "id": "zcpme0g2xH29"
      },
      "source": [
        "## Data\n",
        "'Goal' 1 if a goal, 0 if not a goal\n",
        "'X' x-location along long side of pitch in co-ordinates (0-100)\n",
        "'Y' y-location along short side of pitch (where goal is) in co-ordinates (0-100)\n",
        "'Distance' is distance (in metres) from middle of goal.\n",
        "'Angle' is of a triangle created fom the shot point to the goal mouth (as descibed in lectures)."
      ]
    },
    {
      "cell_type": "code",
      "metadata": {
        "tags": [],
        "id": "ZRT-lECjxH29"
      },
      "source": [
        "#Load data for all shots\n",
        "#shots_model=pd.read_csv('data/shots.csv')\n",
        "shots_model = pd.read_csv('https://uu-sml.github.io/course-sml-public/data/shots.csv')\n",
        "shots_model.head()"
      ],
      "execution_count": null,
      "outputs": []
    },
    {
      "cell_type": "markdown",
      "metadata": {
        "tags": [],
        "id": "bFRbWIs6xH29"
      },
      "source": [
        "Function for plotting goal mouth "
      ]
    },
    {
      "cell_type": "code",
      "metadata": {
        "tags": [],
        "id": "jPAq7qF_xH29"
      },
      "source": [
        "def createGoalMouth():\n",
        "    #Adopted from FC Python\n",
        "    #Create figure\n",
        "    plt.figure()\n",
        "    ax = plt.gca()\n",
        "\n",
        "    linecolor='black'\n",
        "\n",
        "    #Pitch Outline & Centre Line\n",
        "    plt.plot([0,65],[0,0], color=linecolor)\n",
        "    plt.plot([65,65],[50,0], color=linecolor)\n",
        "    plt.plot([0,0],[50,0], color=linecolor)\n",
        "    \n",
        "    #Left Penalty Area\n",
        "    plt.plot([12.5,52.5],[16.5,16.5],color=linecolor)\n",
        "    plt.plot([52.5,52.5],[16.5,0],color=linecolor)\n",
        "    plt.plot([12.5,12.5],[0,16.5],color=linecolor)\n",
        "    \n",
        "    #Left 6-yard Box\n",
        "    plt.plot([41.5,41.5],[5.5,0],color=linecolor)\n",
        "    plt.plot([23.5,41.5],[5.5,5.5],color=linecolor)\n",
        "    plt.plot([23.5,23.5],[0,5.5],color=linecolor)\n",
        "    \n",
        "    #Goal\n",
        "    plt.plot([41.5-5.34,41.5-5.34],[-2,0],color=linecolor)\n",
        "    plt.plot([23.5+5.34,41.5-5.34],[-2,-2],color=linecolor)\n",
        "    plt.plot([23.5+5.34,23.5+5.34],[0,-2],color=linecolor)\n",
        "    \n",
        "    #Prepare Circles\n",
        "    leftPenSpot = plt.Circle((65/2,11),0.8,color=linecolor)\n",
        "    \n",
        "    #Draw Circles\n",
        "    ax.add_patch(leftPenSpot)\n",
        "    \n",
        "    #Prepare Arcs\n",
        "    leftArc = Arc((32.5,11),height=18.3,width=18.3,angle=0,theta1=38,theta2=142,color=linecolor)\n",
        "    \n",
        "    #Draw Arcs\n",
        "    ax.add_patch(leftArc)\n",
        "    \n",
        "    #Set limits\n",
        "    plt.xlim(-1,66)\n",
        "    plt.ylim(-3,35)\n",
        "\n",
        "    #Tidy Axes\n",
        "    plt.axis('off')\n",
        "    \n",
        "    #Set layout\n",
        "    plt.tight_layout()\n",
        "    ax.set_aspect('equal', adjustable='box')"
      ],
      "execution_count": null,
      "outputs": []
    },
    {
      "cell_type": "markdown",
      "metadata": {
        "tags": [],
        "id": "Yymy7pLFxH29"
      },
      "source": [
        "## a)\n",
        "The code plot the frequency of the data. "
      ]
    },
    {
      "cell_type": "code",
      "metadata": {
        "tags": [],
        "id": "SQZAKhNjxH29"
      },
      "source": [
        "# Compute a two-dimensional histogram of shots from different points\n",
        "shotcounts, _, _ = np.histogram2d(shots_model['X'], shots_model['Y'],\n",
        "                                  bins=50, range=[[0, 100],[0, 100]])\n",
        "\n",
        "# Plot the number of shots from different points\n",
        "createGoalMouth()\n",
        "pos = plt.imshow(shotcounts, extent=[-1,66,104,-1], cmap=plt.cm.Reds)\n",
        "plt.colorbar(pos)\n",
        "plt.title('Number of shots')\n",
        "plt.show()"
      ],
      "execution_count": null,
      "outputs": []
    },
    {
      "cell_type": "code",
      "metadata": {
        "tags": [],
        "id": "TVaCjiO5xH29"
      },
      "source": [
        "# Compute a two-dimensional histogram of goals from different points\n",
        "goals_only = shots_model[shots_model['Goal'] == 1]\n",
        "goalcounts, _, _ = np.histogram2d(goals_only['X'], goals_only['Y'],\n",
        "                                  bins=50, range=[[0, 100],[0, 100]])\n",
        "\n",
        "# Plot the number of goals from different points\n",
        "createGoalMouth()\n",
        "pos = plt.imshow(goalcounts, extent=[-1,66,104,-1], cmap=plt.cm.Reds)\n",
        "plt.colorbar(pos)\n",
        "plt.title('Number of goals')\n",
        "plt.show()"
      ],
      "execution_count": null,
      "outputs": []
    },
    {
      "cell_type": "code",
      "metadata": {
        "tags": [],
        "id": "Uf1WOh1ZxH29"
      },
      "source": [
        "# Compute empirical probability of scoring from different points\n",
        "with np.errstate(divide='ignore', invalid='ignore'):\n",
        "    prob_goal = goalcounts / shotcounts\n",
        "\n",
        "# Plot the probability of scoring from different points.\n",
        "createGoalMouth()\n",
        "pos = plt.imshow(prob_goal, extent=[-1,66,104,-1], cmap=plt.cm.Reds,\n",
        "                 vmin=0, vmax=0.5)\n",
        "plt.colorbar(pos)\n",
        "plt.title('Proportion of shots resulting in a goal')\n",
        "plt.show()"
      ],
      "execution_count": null,
      "outputs": []
    },
    {
      "cell_type": "markdown",
      "metadata": {
        "tags": [],
        "id": "wNJRBvkVxH29"
      },
      "source": [
        "## b)\n",
        "The code below plots how shot angle determine probability of scoring. It fits a logistic regression model and compares it to data. Make a similar plot for distance to goal. See what happens when you add distance squared."
      ]
    },
    {
      "cell_type": "code",
      "metadata": {
        "tags": [],
        "id": "4_H871CgxH29"
      },
      "source": [
        "# Make single variable model of angle\n",
        "# Using logistic regression we find the optimal parameters\n",
        "X = shots_model[['Angle']]\n",
        "y = shots_model['Goal']\n",
        "model = skl_lm.LogisticRegression(penalty='none')\n",
        "model.fit(X, y)\n",
        "\n",
        "# Bin the angles of shots to compute empirical estimates of the\n",
        "# probabilities of goals scored\n",
        "shotcount_angle, bin_edges = np.histogram(shots_model['Angle'] * 180 / np.pi, bins=40, range=[0, 150])\n",
        "goalcount_angle, _ = np.histogram(goals_only['Angle'] * 180 / np.pi, bins=40, range=[0, 150])\n",
        "\n",
        "# Compute average angle in each bin\n",
        "angle = (bin_edges[:-1] + bin_edges[1:])/2\n",
        "\n",
        "# Empirical estimate of probabilities of goal scored\n",
        "# for bins with at least one shot\n",
        "ibins = np.where(shotcount_angle > 0)\n",
        "prob_goal = goalcount_angle[ibins] / shotcount_angle[ibins]\n",
        "\n",
        "# Compute predictions\n",
        "xGprob = model.predict_proba(angle.reshape(-1, 1) * np.pi / 180) \n",
        "\n",
        "# Plot data and predictions\n",
        "plt.plot(angle[ibins], prob_goal, 'ko')\n",
        "plt.plot(angle, xGprob[:,1], 'k')\n",
        "plt.xlabel(\"Shot angle (degrees)\")\n",
        "plt.ylabel('Probability chance scored')\n",
        "plt.show()"
      ],
      "execution_count": null,
      "outputs": []
    },
    {
      "cell_type": "code",
      "metadata": {
        "tags": [],
        "id": "9tm_OxdCxH29"
      },
      "source": [
        "#Show empirically how distance from goal predicts probability of scoring\n",
        "#Make single variable model of distance\n"
      ],
      "execution_count": null,
      "outputs": []
    },
    {
      "cell_type": "code",
      "metadata": {
        "tags": [],
        "id": "o_wKWZvqxH29"
      },
      "source": [
        "#Adding distance squared\n"
      ],
      "execution_count": null,
      "outputs": []
    },
    {
      "cell_type": "markdown",
      "metadata": {
        "tags": [],
        "id": "p7KHM0woxH29"
      },
      "source": [
        "## c)\n",
        "By setting `model_variables` in the code below you can test different features. Investigate manually which parameters work best. "
      ]
    },
    {
      "cell_type": "code",
      "metadata": {
        "tags": [],
        "id": "pVHsvQ5QxH29"
      },
      "source": [
        "# Adding even more variables to the model.\n",
        "shots_model['X2'] = shots_model['X']**2\n",
        "shots_model['C2'] = shots_model['C']**2\n",
        "shots_model['AX'] = shots_model['Angle']*shots_model['X']\n",
        "\n",
        "# A general model for fitting goal probability\n",
        "# List the model variables you want here\n",
        "model_variables = ['Distance']\n",
        "\n",
        "# Fit the linear regression model.\n",
        "X = shots_model[model_variables]\n",
        "y = shots_model['Goal']\n",
        "model = skl_lm.LogisticRegression(penalty='none')\n",
        "model.fit(X, y)\n",
        "\n",
        "# Create a 2D map of predicted probabilities\n",
        "pgoal_2d = np.zeros((65,65))\n",
        "for x in range(65):\n",
        "    for y in range(65):\n",
        "        # Compute features for this field\n",
        "        sh = dict()\n",
        "        a = np.arctan(7.32 *x /(x**2 + abs(y-65/2)**2 - (7.32/2)**2))\n",
        "        if a < 0:\n",
        "            a = np.pi + a\n",
        "        sh['Angle'] = a\n",
        "        sh['Distance'] = np.sqrt(x**2 + abs(y-65/2)**2)\n",
        "        sh['D2'] = x**2 + abs(y-65/2)**2\n",
        "        sh['X'] = x\n",
        "        sh['AX'] = x*a\n",
        "        sh['X2'] = x**2\n",
        "        sh['C'] = abs(y-65/2)\n",
        "        sh['C2'] = (y-65/2)**2\n",
        "        \n",
        "        # Compute predictions\n",
        "        X_field = np.array([sh[var] for var in model_variables]).reshape(-1, 1)\n",
        "        pgoal_2d[x, y] = model.predict_proba(X_field)[:, 1]\n",
        "\n",
        "# Plot model\n",
        "createGoalMouth()\n",
        "plt.imshow(pgoal_2d, extent=[-1,65,65,-1],\n",
        "           cmap=plt.cm.Reds, vmin=0, vmax=0.3)\n",
        "plt.colorbar(pos)\n",
        "plt.title('Probability of goal')\n",
        "plt.show()"
      ],
      "execution_count": null,
      "outputs": []
    }
  ]
}