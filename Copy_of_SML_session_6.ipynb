{
  "nbformat": 4,
  "nbformat_minor": 0,
  "metadata": {
    "celltoolbar": "Tags",
    "kernelspec": {
      "display_name": "Python 3",
      "language": "python",
      "name": "python3"
    },
    "language_info": {
      "codemirror_mode": {
        "name": "ipython",
        "version": 3
      },
      "file_extension": ".py",
      "mimetype": "text/x-python",
      "name": "python",
      "nbconvert_exporter": "python",
      "pygments_lexer": "ipython3",
      "version": "3.6.10"
    },
    "colab": {
      "name": "Copy of SML-session_6.ipynb",
      "provenance": [],
      "include_colab_link": true
    }
  },
  "cells": [
    {
      "cell_type": "markdown",
      "metadata": {
        "id": "view-in-github",
        "colab_type": "text"
      },
      "source": [
        "<a href=\"https://colab.research.google.com/github/swatisingh9839/SML-session-9-features/blob/main/Copy_of_SML_session_6.ipynb\" target=\"_parent\"><img src=\"https://colab.research.google.com/assets/colab-badge.svg\" alt=\"Open In Colab\"/></a>"
      ]
    },
    {
      "cell_type": "markdown",
      "metadata": {
        "tags": [],
        "id": "Nnl4A1J8xyTf"
      },
      "source": [
        "# Bias-variance trade-off, model selection and cross validation – Computer exercises"
      ]
    },
    {
      "cell_type": "code",
      "metadata": {
        "tags": [],
        "id": "7tUzhwgDxyTg"
      },
      "source": [
        "import pandas as pd\n",
        "import numpy as np\n",
        "import matplotlib.pyplot as plt\n",
        "\n",
        "import sklearn.preprocessing as skl_pre\n",
        "import sklearn.linear_model as skl_lm\n",
        "import sklearn.discriminant_analysis as skl_da\n",
        "import sklearn.neighbors as skl_nb\n",
        "import sklearn.model_selection as skl_ms"
      ],
      "execution_count": null,
      "outputs": []
    },
    {
      "cell_type": "markdown",
      "metadata": {
        "tags": [],
        "id": "0y0Ave6mxyTh"
      },
      "source": [
        "## 6.1 Cross validation in $k$-NN\n",
        "In this exercise we will return to the `biopsy` data set also used in Exercise 4.1 (Lesson 4). We will try to determine suitable value of $k$ in $k$-NN for this data. For simplicity, we will only consider the three attributes in columns `V3`, `V4`and `V5` in this problem."
      ]
    },
    {
      "cell_type": "markdown",
      "metadata": {
        "tags": [],
        "id": "gyXxNm_pxyTh"
      },
      "source": [
        "### (a) \n",
        "Consider all data as training data. Investigate how the training error varies with different values of $k$ (hint: use a `for`-loop). Which $k$ gives the best result? Is it a good choice of $k$?"
      ]
    },
    {
      "cell_type": "code",
      "metadata": {
        "tags": [],
        "id": "7Pvgjyn_xyTh"
      },
      "source": [
        "# Load the data\n",
        "# url = 'data/biopsy.csv'\n",
        "url = 'https://uu-sml.github.io/course-sml-public/data/biopsy.csv'\n",
        "biopsy = pd.read_csv(url, dtype={'ID': str}).dropna().reset_index(drop=True)"
      ],
      "execution_count": null,
      "outputs": []
    },
    {
      "cell_type": "code",
      "metadata": {
        "tags": [],
        "id": "ah3l1A5xxyTh"
      },
      "source": [
        ""
      ],
      "execution_count": null,
      "outputs": []
    },
    {
      "cell_type": "markdown",
      "metadata": {
        "tags": [],
        "id": "b7LaJrccxyTh"
      },
      "source": [
        "### (b) <a id='6.1-b'></a>\n",
        "Split the data randomly into a training and validation set, and see how well you perform on the validation set. (Previously, we have used the terminology \"training\" and \"test\" set. If the other set (not the training set) is used to make design decisions, such as choosing $k$, it is really not a test set, but rather a \"validation\" set. Hence the\n",
        "terminology.) Which $k$ gives the best result?"
      ]
    },
    {
      "cell_type": "code",
      "metadata": {
        "tags": [],
        "id": "EDyugleVxyTh"
      },
      "source": [
        ""
      ],
      "execution_count": null,
      "outputs": []
    },
    {
      "cell_type": "markdown",
      "metadata": {
        "tags": [],
        "id": "Pn6Uys5txyTh"
      },
      "source": [
        "### (c) \n",
        "Perform [(b)](#6.1-b) 10 times for different validation sets and average the result. Which $k$ gives the best result?"
      ]
    },
    {
      "cell_type": "code",
      "metadata": {
        "tags": [],
        "id": "tNWsqiMOxyTh"
      },
      "source": [
        ""
      ],
      "execution_count": null,
      "outputs": []
    },
    {
      "cell_type": "markdown",
      "metadata": {
        "tags": [],
        "id": "ZFWQh9i_xyTh"
      },
      "source": [
        "### (d) \n",
        "Perform 10-fold cross-validation by first randomly permute the data set, divide the data set into 10 equally sized parts and loop through them by taking one part as validation set and the rest as training set each time. Which $k$ gives the best result?"
      ]
    },
    {
      "cell_type": "code",
      "metadata": {
        "tags": [],
        "id": "1wTOpS5XxyTh"
      },
      "source": [
        ""
      ],
      "execution_count": null,
      "outputs": []
    },
    {
      "cell_type": "markdown",
      "metadata": {
        "tags": [],
        "id": "nHnJwG_sxyTh"
      },
      "source": [
        "## 6.2 Cross validation for model choice\n",
        "\n",
        "In this problem we will consider the data sets `data/pima_tr.csv` and `data/pima_te.csv`. Your task is to do as good prediction as possible for the test set `pima_te`, but you are only allowed to look at the true output in `pima_te` once (like in the real life, where you design and implement a method, and then hand it over to the ultimate test, namely the user). Hence, you will have to use `pima_tr` for both deciding which model to use and training the model.\n",
        "\n",
        "The data set describes the prevalence of diabetes in women at least 21 years old of Pima Indian heritage, living near Phoenix, Arizona, USA. The data set describes, for each individual, whether she has diabetes or not, her age, the diabetes pedigree function (a summary of the diabetes history in her family), BMI, skin thickness, blood pressure, plasma glucose concentration and number of pregnancies.\n",
        "\n",
        "The data frame contains the following columns:  \n",
        "`npreg` number of pregnancies.  \n",
        "`glu` plasma glucose concentration in an oral glucose tolerance test.  \n",
        "`bp` diastolic blood pressure (mm Hg).  \n",
        "`skin` triceps skin fold thickness (mm).  \n",
        "`bmi` body mass index (weight in kg/(height in m)\\^2).  \n",
        "`ped` diabetes pedigree function.  \n",
        "`age` age in years.  \n",
        "`type` Yes or No, for diabetic according to WHO criteria.\n"
      ]
    },
    {
      "cell_type": "markdown",
      "metadata": {
        "tags": [],
        "id": "786v5cOfxyTh"
      },
      "source": [
        "### (a)\n",
        "Load the library and familiarize yourself with `pima_tr`"
      ]
    },
    {
      "cell_type": "code",
      "metadata": {
        "tags": [],
        "id": "R9gVpTNVxyTh"
      },
      "source": [
        "# Load the datasets\n",
        "# url = 'data/pima_tr.csv'\n",
        "url = 'https://uu-sml.github.io/course-sml-public/data/pima_tr.csv'\n",
        "pima_tr = pd.read_csv(url)\n",
        "\n",
        "# url = 'data/pima_tr.csv'\n",
        "url = 'https://uu-sml.github.io/course-sml-public/data/pima_te.csv'\n",
        "pima_te = pd.read_csv(url)"
      ],
      "execution_count": null,
      "outputs": []
    },
    {
      "cell_type": "code",
      "metadata": {
        "tags": [],
        "id": "ZrOIx89yxyTh"
      },
      "source": [
        ""
      ],
      "execution_count": null,
      "outputs": []
    },
    {
      "cell_type": "markdown",
      "metadata": {
        "tags": [],
        "id": "iODUD2b2xyTh"
      },
      "source": [
        "### (b)\n",
        "See how well you can fit the `pima_tr` with logistic regression, LDA, QDA and k-NN (k = 2). The output is whether an individual has diabetes or not, and the input the remaining variables. What error rate does each method have? Is it a good indicator of which method is preferable?"
      ]
    },
    {
      "cell_type": "code",
      "metadata": {
        "tags": [],
        "id": "jqmqrJrexyTh"
      },
      "source": [
        ""
      ],
      "execution_count": null,
      "outputs": []
    },
    {
      "cell_type": "markdown",
      "metadata": {
        "tags": [],
        "id": "biayBzpkxyTh"
      },
      "source": [
        "### (c)\n",
        "Instead of [(b)](#6.2-b), perform 10-fold cross-validation by first randomly permute `pima_tr` and divide it in 10 parts. Then, in a loop with one of the 10 parts held out as validation data, fit logistic regression, LDA, QDA and k-NN (k = 2) to the training data and evaluate the performance on the validation data. Plot your results in a box plot with the error rates. Feel free to play around with the choice of inputs and other settings to improve the performance. Which method does this suggest us to use?"
      ]
    },
    {
      "cell_type": "code",
      "metadata": {
        "tags": [],
        "id": "z-6nxBfBxyTh"
      },
      "source": [
        ""
      ],
      "execution_count": null,
      "outputs": []
    },
    {
      "cell_type": "markdown",
      "metadata": {
        "tags": [],
        "id": "pHo3UOCIxyTh"
      },
      "source": [
        "### d) <a id='6.4-d'/>\n",
        "Now, decide which method to choose and train it on the entire data set `pima_tr` and predict `pima_te`. How well do you perform?"
      ]
    },
    {
      "cell_type": "code",
      "metadata": {
        "tags": [],
        "id": "iEH5j2VnxyTh"
      },
      "source": [
        ""
      ],
      "execution_count": null,
      "outputs": []
    },
    {
      "cell_type": "markdown",
      "metadata": {
        "tags": [],
        "id": "j423oTBoxyTh"
      },
      "source": [
        "### (e) \n",
        "Now, since we are in a simulated environment, we can cheat and break the rule that we were only allowed to look at the true output in `pima_te` once. That is, explore how well the other methods do when you train them on `pima_tr` and predict `pima_te`. Did you make the \"right\" choice in [(d)](#6.4-d)?"
      ]
    },
    {
      "cell_type": "code",
      "metadata": {
        "tags": [],
        "id": "6CUUHksLxyTh"
      },
      "source": [
        ""
      ],
      "execution_count": null,
      "outputs": []
    },
    {
      "cell_type": "markdown",
      "metadata": {
        "tags": [],
        "id": "3mCTCyAVxyTh"
      },
      "source": [
        "## 6.3 Implementing problem 5.3\n",
        "Verify your theoretical findings from problem 5.3 by repeating the experiment $N$ times and approximating all expected values with sums. Let $\\sigma^2=1$."
      ]
    },
    {
      "cell_type": "markdown",
      "metadata": {
        "tags": [],
        "id": "iNU6Q1PRxyTh"
      },
      "source": [
        "### a)\n",
        "Generate training data ($n=1$), estimate $\\theta_0$ and compute $\\widehat y(x_\\star;\\mathcal{T})$. Repeat $N$ times and store the results in a vector. Choose the regularization parameter yourself."
      ]
    },
    {
      "cell_type": "code",
      "metadata": {
        "tags": [],
        "id": "0E3t7lHWxyTh"
      },
      "source": [
        ""
      ],
      "execution_count": null,
      "outputs": []
    },
    {
      "cell_type": "markdown",
      "metadata": {
        "tags": [],
        "id": "VPvuXR8ixyTh"
      },
      "source": [
        "### b)\n",
        "Estimate $\\bar{f}(x_\\star)=\\mathbb{E}_\\mathcal{T}[y(x_\\star;\\mathcal{T})]$ from your vector of $\\widehat y(x_\\star,\\mathcal{T})$. Compare your result to your theoretical findings in 5.3b."
      ]
    },
    {
      "cell_type": "code",
      "metadata": {
        "tags": [],
        "id": "Sbb0tSynxyTh"
      },
      "source": [
        ""
      ],
      "execution_count": null,
      "outputs": []
    },
    {
      "cell_type": "markdown",
      "metadata": {
        "tags": [],
        "id": "apRCOc4axyTh"
      },
      "source": [
        "### c) \n",
        "Estimate the square bias $\\mathbb{E}_\\star[(\\bar{f}(x_\\star)-f_0(x_\\star))^2]$ using your result from b) and your knowledge about the true $f_0(x)$. Compare your result to your theoretical findings in 5.3c."
      ]
    },
    {
      "cell_type": "code",
      "metadata": {
        "tags": [],
        "id": "vg0fkUGCxyTh"
      },
      "source": [
        ""
      ],
      "execution_count": null,
      "outputs": []
    },
    {
      "cell_type": "markdown",
      "metadata": {
        "tags": [],
        "id": "Kggqjih2xyTi"
      },
      "source": [
        "### d) \n",
        "Estimate the variance $\\mathbb{E}_\\star[\\mathbb{E}_\\mathcal{T}[(\\widehat y (x_\\star;\\mathcal{T}) - \\bar f(x_\\star))^2]]$ using your vector of $\\widehat y(x_\\star;\\mathcal{T})$ from a) and your result from b). Compare your result to your theoretical findings in 5.3d."
      ]
    },
    {
      "cell_type": "code",
      "metadata": {
        "tags": [],
        "id": "NEHBDWllxyTi"
      },
      "source": [
        ""
      ],
      "execution_count": null,
      "outputs": []
    },
    {
      "cell_type": "markdown",
      "metadata": {
        "tags": [],
        "id": "vmzGeBlHxyTi"
      },
      "source": [
        "### e) \n",
        "Estimate the expected new data error $\\bar E_\\text{new} = \\mathbb{E}_\\mathcal{T}[E_\\text{new}] = \\mathbb{E}_\\mathcal{T}[\\mathbb{E}_\\star[(y(x_\\star;\\mathcal{T})-\\bar{f}(x_\\star))^2]]$ by, for each $\\widehat y(x_\\star;\\mathcal{T})$ in your vector from a), simulate $N$ copies of $y_\\star$. Compare your result to your theoretical findings in 5.3f."
      ]
    },
    {
      "cell_type": "code",
      "metadata": {
        "tags": [],
        "id": "91b45OJVxyTi"
      },
      "source": [
        ""
      ],
      "execution_count": null,
      "outputs": []
    },
    {
      "cell_type": "markdown",
      "metadata": {
        "tags": [],
        "id": "mWx5EJzfxyTi"
      },
      "source": [
        "### f) \n",
        "Make a loop over different values for the regularization parameter $\\lambda$ and plot bias, variance and $\\bar{E}_\\text{new}$as a function of $\\lambda$. Also plot your theoretical findings from 5.3 in the same plot."
      ]
    },
    {
      "cell_type": "code",
      "metadata": {
        "tags": [],
        "id": "tgaclWLTxyTi"
      },
      "source": [
        ""
      ],
      "execution_count": null,
      "outputs": []
    },
    {
      "cell_type": "markdown",
      "metadata": {
        "tags": [],
        "id": "SlmaYTquxyTi"
      },
      "source": [
        "## 6.4 Implementing problem 5.5\n",
        "\n",
        "Design an experiment (similarly to 6.3) where you numerically confirm the results from problem 5.5."
      ]
    },
    {
      "cell_type": "code",
      "metadata": {
        "tags": [],
        "id": "PBT0KR3VxyTi"
      },
      "source": [
        ""
      ],
      "execution_count": null,
      "outputs": []
    }
  ]
}